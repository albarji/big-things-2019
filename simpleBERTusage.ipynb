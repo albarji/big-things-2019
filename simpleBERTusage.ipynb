{
 "cells": [
  {
   "cell_type": "markdown",
   "metadata": {},
   "source": [
    "<img src=\"img/bigthings.png\" style=\"width:600px;\">"
   ]
  },
  {
   "cell_type": "markdown",
   "metadata": {},
   "source": [
    "# Solving Natural Language problems with scarce data"
   ]
  },
  {
   "cell_type": "markdown",
   "metadata": {},
   "source": [
    "# Simple notebook to show basic BERT usage"
   ]
  },
  {
   "cell_type": "markdown",
   "metadata": {},
   "source": [
    "## Tokenizing text with BERT"
   ]
  },
  {
   "cell_type": "code",
   "execution_count": 1,
   "metadata": {},
   "outputs": [],
   "source": [
    "import transformers\n",
    "from transformers import BertTokenizer\n",
    "tokenizer = BertTokenizer.from_pretrained('bert-base-multilingual-uncased') "
   ]
  },
  {
   "cell_type": "code",
   "execution_count": 2,
   "metadata": {},
   "outputs": [
    {
     "data": {
      "text/plain": [
       "[101, 151, 112, 155, 16925, 13649, 21593, 10970, 14059, 102]"
      ]
     },
     "execution_count": 2,
     "metadata": {},
     "output_type": "execute_result"
    }
   ],
   "source": [
    "sample_text = \"I'm tokenizing some text\"\n",
    "tokenizer.encode(sample_text, add_special_tokens=True)"
   ]
  },
  {
   "cell_type": "code",
   "execution_count": 3,
   "metadata": {},
   "outputs": [
    {
     "name": "stdout",
     "output_type": "stream",
     "text": [
      "[CLS] -> 101\n",
      "i -> 151\n",
      "' -> 112\n",
      "m -> 155\n",
      "tok -> 16925\n",
      "##eni -> 13649\n",
      "##zing -> 21593\n",
      "some -> 10970\n",
      "text -> 14059\n",
      "[SEP] -> 102\n"
     ]
    }
   ],
   "source": [
    "for token in tokenizer.encode(sample_text, add_special_tokens=True):\n",
    "    print(f\"{tokenizer.decode([token])} -> {token}\")"
   ]
  },
  {
   "cell_type": "markdown",
   "metadata": {},
   "source": [
    "## Computing contextualized embeddings with BERT"
   ]
  },
  {
   "cell_type": "code",
   "execution_count": 4,
   "metadata": {},
   "outputs": [],
   "source": [
    "import torch\n",
    "from transformers import BertModel\n",
    "model = BertModel.from_pretrained('bert-base-multilingual-uncased')"
   ]
  },
  {
   "cell_type": "code",
   "execution_count": 5,
   "metadata": {},
   "outputs": [
    {
     "name": "stdout",
     "output_type": "stream",
     "text": [
      "torch.Size([13, 768])\n",
      "tensor([[-0.1530, -0.0948, -0.0012,  ..., -0.0225, -0.0688, -0.0611],\n",
      "        [ 0.3417,  0.1961,  0.1746,  ..., -0.1793,  0.1639, -0.3618],\n",
      "        [ 0.1743,  0.4308,  0.7249,  ...,  0.2688,  0.1593, -0.1433],\n",
      "        ...,\n",
      "        [-0.0493, -0.0772,  0.1372,  ..., -0.1875,  0.5819, -0.2562],\n",
      "        [-0.0976,  0.4797,  0.1691,  ..., -0.0733,  0.2960, -0.3994],\n",
      "        [ 0.1321,  0.4781, -0.4358,  ...,  0.2372,  0.3368, -0.4438]])\n"
     ]
    }
   ],
   "source": [
    "sample_text = \"I'm embedding some text using context!\"\n",
    "with torch.no_grad():\n",
    "    outputs = model(torch.tensor([tokenizer.encode(sample_text, add_special_tokens=True)]))\n",
    "embeddings = outputs[0][0]\n",
    "print(embeddings.shape)\n",
    "print(embeddings)"
   ]
  }
 ],
 "metadata": {
  "kernelspec": {
   "display_name": "Python 3",
   "language": "python",
   "name": "python3"
  },
  "language_info": {
   "codemirror_mode": {
    "name": "ipython",
    "version": 3
   },
   "file_extension": ".py",
   "mimetype": "text/x-python",
   "name": "python",
   "nbconvert_exporter": "python",
   "pygments_lexer": "ipython3",
   "version": "3.6.9"
  }
 },
 "nbformat": 4,
 "nbformat_minor": 2
}
